{
  "nbformat": 4,
  "nbformat_minor": 0,
  "metadata": {
    "colab": {
      "name": "sudoku.ipynb",
      "provenance": [],
      "collapsed_sections": [],
      "authorship_tag": "ABX9TyMRHguLX/DsroU4yl/7FROt"
    },
    "kernelspec": {
      "name": "python3",
      "display_name": "Python 3"
    },
    "language_info": {
      "name": "python"
    }
  },
  "cells": [
    {
      "cell_type": "markdown",
      "metadata": {
        "id": "H9ZflKN3tMVn"
      },
      "source": [
        "# Install PuLP via pip"
      ]
    },
    {
      "cell_type": "code",
      "metadata": {
        "colab": {
          "base_uri": "https://localhost:8080/"
        },
        "id": "y9SMW4CNaPoB",
        "outputId": "1d474817-3999-462d-9972-a50caed23669"
      },
      "source": [
        "!pip install pulp\n",
        "!pip install pandas"
      ],
      "execution_count": 2,
      "outputs": [
        {
          "output_type": "stream",
          "text": [
            "Collecting pulp\n",
            "\u001b[?25l  Downloading https://files.pythonhosted.org/packages/14/c4/0eec14a0123209c261de6ff154ef3be5cad3fd557c084f468356662e0585/PuLP-2.4-py3-none-any.whl (40.6MB)\n",
            "\u001b[K     |████████████████████████████████| 40.6MB 97kB/s \n",
            "\u001b[?25hCollecting amply>=0.1.2\n",
            "  Downloading https://files.pythonhosted.org/packages/f3/c5/dfa09dd2595a2ab2ab4e6fa7bebef9565812722e1980d04b0edce5032066/amply-0.1.4-py3-none-any.whl\n",
            "Requirement already satisfied: docutils>=0.3 in /usr/local/lib/python3.7/dist-packages (from amply>=0.1.2->pulp) (0.17)\n",
            "Requirement already satisfied: pyparsing in /usr/local/lib/python3.7/dist-packages (from amply>=0.1.2->pulp) (2.4.7)\n",
            "Installing collected packages: amply, pulp\n",
            "Successfully installed amply-0.1.4 pulp-2.4\n",
            "Requirement already satisfied: pandas in /usr/local/lib/python3.7/dist-packages (1.1.5)\n",
            "Requirement already satisfied: python-dateutil>=2.7.3 in /usr/local/lib/python3.7/dist-packages (from pandas) (2.8.1)\n",
            "Requirement already satisfied: pytz>=2017.2 in /usr/local/lib/python3.7/dist-packages (from pandas) (2018.9)\n",
            "Requirement already satisfied: numpy>=1.15.4 in /usr/local/lib/python3.7/dist-packages (from pandas) (1.19.5)\n",
            "Requirement already satisfied: six>=1.5 in /usr/local/lib/python3.7/dist-packages (from python-dateutil>=2.7.3->pandas) (1.15.0)\n"
          ],
          "name": "stdout"
        }
      ]
    },
    {
      "cell_type": "markdown",
      "metadata": {
        "id": "-xTSTC--nZOJ"
      },
      "source": [
        "# Import and Global Variables"
      ]
    },
    {
      "cell_type": "code",
      "metadata": {
        "id": "fTIXX9_scZAF"
      },
      "source": [
        "import pandas as pd\n",
        "from pulp import *\n",
        "import math"
      ],
      "execution_count": 3,
      "outputs": []
    },
    {
      "cell_type": "markdown",
      "metadata": {
        "id": "hFAqH6GEnenK"
      },
      "source": [
        "# Helper Functions to convert records to Soduku 2D-Arrays"
      ]
    },
    {
      "cell_type": "code",
      "metadata": {
        "id": "zJsstd78dHWD"
      },
      "source": [
        "# Grabs individual row and splits into quiz and solution\n",
        "def get_quiz_set(row):\n",
        "  return row.quizzes, row.solutions\n",
        "\n",
        "# Convert sudoku string into 2D-Array\n",
        "def convert_to_soduku(line, n):\n",
        "  sudoku = []\n",
        "\n",
        "  split = [\n",
        "           line[i:i+n] for i in range(0, len(line), n)\n",
        "  ]\n",
        "  \n",
        "  for r in split:\n",
        "    sudoku.append(\n",
        "        [\n",
        "         int(r[i:i+1]) for i in range(0, len(r), 1)\n",
        "        ]\n",
        "    )\n",
        "  return sudoku\n",
        "\n",
        "# Compares 2D-Arrays for our solution and expected solution\n",
        "def compare_solutions(input, expected):\n",
        "  return input == expected\n",
        "\n",
        "# Must be perfect square (ie: 4x4, 9x9, 16x16, 25x25, 100x100, etc.)\n",
        "def subn_convert(n):\n",
        "  root = math.sqrt(n)\n",
        "  if int(root + 0.5) ** 2 == n:\n",
        "    return int(root)\n",
        "  else:\n",
        "    raise Exception('[%s x %s] is not an allowable dimension. Must be a perfect square (ie: 9x9 or 25x25)' % (n, n))"
      ],
      "execution_count": 4,
      "outputs": []
    },
    {
      "cell_type": "markdown",
      "metadata": {
        "id": "HWmlW0VxxZzg"
      },
      "source": [
        "\n",
        "# Setup Constants Function"
      ]
    },
    {
      "cell_type": "code",
      "metadata": {
        "id": "sYg5ELNFxXPn"
      },
      "source": [
        "def define_constants(n):\n",
        "  Vals = range(1, n+1)  # Sequence of 1 to n\n",
        "  Rows = range(0, n)    # Sequence of 0 to n-1 (Since Python is 0-based)\n",
        "  Cols = range(0, n)    # Sequence of 0 to n-1 (Since Python is 0-based)\n",
        "\n",
        "  SubN = subn_convert(n)       \n",
        "  Sectors = []\n",
        "\n",
        "  for i in range(SubN):\n",
        "      for j in range(SubN):\n",
        "          Sectors += [\n",
        "              [\n",
        "                (\n",
        "                    Rows[SubN*i+k],Cols[SubN*j+l]\n",
        "                ) for k in range(SubN) for l in range(SubN)\n",
        "              ]\n",
        "            ]\n",
        "\n",
        "  return Vals, Rows, Cols, Sectors"
      ],
      "execution_count": 5,
      "outputs": []
    },
    {
      "cell_type": "markdown",
      "metadata": {
        "id": "wdcfUdp8K7do"
      },
      "source": [
        "# Define Standard Constraints\n",
        "* 1 Value per Option\n",
        "* Single Value per Row, Column, and Sector"
      ]
    },
    {
      "cell_type": "code",
      "metadata": {
        "id": "8ncwkvS9t7J_"
      },
      "source": [
        "def define_problem_and_constraints(Vals, Rows, Cols):\n",
        "  problem = LpProblem(\"Sudoku\", LpMinimize)\n",
        "  # Objective Function is irrelevant as we are just looking for an optimal soln\n",
        "  problem += 0\n",
        "\n",
        "  options = LpVariable.dicts(\"Options\", (Vals,Rows,Cols), 0, 1, LpInteger)\n",
        "  \n",
        "  # Constraint: Single Value per Option\n",
        "  for r in Rows:\n",
        "    for c in Cols:\n",
        "        problem += lpSum(\n",
        "            [options[v][r][c] for v in Vals]\n",
        "        ) == 1\n",
        "\n",
        "  # Constraint: Single Value per Row, Column, and Sector\n",
        "  for v in Vals:\n",
        "    for r in Rows:\n",
        "        problem += lpSum(\n",
        "            [options[v][r][c] for c in Cols]\n",
        "        ) == 1\n",
        "        \n",
        "    for c in Cols:\n",
        "        problem += lpSum(\n",
        "            [options[v][r][c] for r in Rows]\n",
        "        ) == 1\n",
        "\n",
        "    for b in Sectors:\n",
        "        problem += lpSum(\n",
        "            [options[v][r][c] for (r,c) in b]\n",
        "        ) == 1\n",
        "\n",
        "  return problem, options"
      ],
      "execution_count": 6,
      "outputs": []
    },
    {
      "cell_type": "markdown",
      "metadata": {
        "id": "DG_uqlnELFCr"
      },
      "source": [
        "# Define Sudoku Problem and Solve\n",
        "Also defines the individual value constraints by looping through the 2D-Array"
      ]
    },
    {
      "cell_type": "code",
      "metadata": {
        "id": "adnOfNQlv02p"
      },
      "source": [
        "def define_values_and_solve(problem, options, values):\n",
        "  for r_idx, row in enumerate(values):\n",
        "    for c_idx, value in enumerate(row):\n",
        "      if value > 0:\n",
        "        problem += options[value][r_idx][c_idx] == 1\n",
        "  \n",
        "  problem.solve()\n",
        "\n",
        "  if LpStatus[problem.status] != 'Optimal':\n",
        "    raise Exception('Infeasible Problem.')\n",
        "\n",
        "  return problem"
      ],
      "execution_count": 7,
      "outputs": []
    },
    {
      "cell_type": "markdown",
      "metadata": {
        "id": "TV42cKSpLKeF"
      },
      "source": [
        "# Grab Optimal Values and Conduct Python Array\n",
        "Generates a 2D-Array from the LP Solution"
      ]
    },
    {
      "cell_type": "code",
      "metadata": {
        "id": "U-uu3ASFwgRz"
      },
      "source": [
        "def construct_solution_matrix(Rows, Cols, Vals, options):\n",
        "  soln = []\n",
        "  n = len(Rows)\n",
        "\n",
        "  for r in Rows:\n",
        "      row = []\n",
        "\n",
        "      for c in Cols:\n",
        "          for v in Vals:\n",
        "            if value(options[v][r][c]):\n",
        "              row.append(v)\n",
        "              \n",
        "              if c == n-1:\n",
        "                soln.append(row)\n",
        "                row = []\n",
        "  return soln"
      ],
      "execution_count": 8,
      "outputs": []
    },
    {
      "cell_type": "markdown",
      "metadata": {
        "id": "muhQqY1tLOtO"
      },
      "source": [
        "# Construct User-Readable Print-out\n",
        "Makes it easier to read and print to console"
      ]
    },
    {
      "cell_type": "code",
      "metadata": {
        "id": "v37z1Bfz1GIy"
      },
      "source": [
        "def pretty_print_solution(soln):\n",
        "  n = len(soln)\n",
        "  sub_n = subn_convert(n)\n",
        "\n",
        "  line = 3*n*'-' + '\\n'\n",
        "  prnt = ''\n",
        "\n",
        "  for r_idx, row in enumerate(soln):\n",
        "    if r_idx % sub_n == 0:\n",
        "      prnt += line\n",
        "\n",
        "    for c_idx, value in enumerate(row):\n",
        "      if c_idx % sub_n == 0:\n",
        "        prnt += ' |'\n",
        "\n",
        "      prnt += ' ' + str(value)\n",
        "    prnt += ' |'\n",
        "\n",
        "\n",
        "    prnt += '\\n'\n",
        "  prnt += line\n",
        "  print(prnt)"
      ],
      "execution_count": 9,
      "outputs": []
    },
    {
      "cell_type": "markdown",
      "metadata": {
        "id": "4MQieowPPtgF"
      },
      "source": [
        "# Iterate through 4x4 sudoku puzzles and compare output"
      ]
    },
    {
      "cell_type": "code",
      "metadata": {
        "colab": {
          "base_uri": "https://localhost:8080/"
        },
        "id": "Y3suNcP4PqtV",
        "outputId": "c8200140-e47c-41d0-d34c-a8f44d7106eb"
      },
      "source": [
        "print('Testing Quizes 4x4')\n",
        "\n",
        "n = 4\n",
        "sudoku_problems = [\n",
        "  '1000000400200300',\n",
        "  '0014000000010300',\n",
        "  '0000013000240000'\n",
        "]\n",
        "expected_solutions = [\n",
        "  '1432321441232341',\n",
        "  '3214412324311342',\n",
        "  '3241413213242413'\n",
        "]\n",
        "\n",
        "for idx, p in enumerate(sudoku_problems):\n",
        "  print('Testing Quiz #%s' % (idx+1))\n",
        "  sudoku_problem = p\n",
        "  expected_solution = expected_solutions[idx] \n",
        "  sudoku_problem = convert_to_soduku(sudoku_problem, n)\n",
        "  expected_solution = convert_to_soduku(expected_solution, n)\n",
        "\n",
        "  Vals, Rows, Cols, Sectors = define_constants(n)\n",
        "  problem, options = define_problem_and_constraints(Vals, Rows, Cols)\n",
        "  problem = define_values_and_solve(problem, options, sudoku_problem)\n",
        "  solution = construct_solution_matrix(Rows, Cols, Vals, options)\n",
        "  success = compare_solutions(solution, expected_solution)\n",
        "\n",
        "  if not success:\n",
        "    print('[Input]')\n",
        "    pretty_print_solution(solution)\n",
        "    print('[Output]')\n",
        "    pretty_print_solution(expected_solution)    \n",
        "    raise Exception('Failed to find correct solution')\n"
      ],
      "execution_count": 17,
      "outputs": [
        {
          "output_type": "stream",
          "text": [
            "Testing Quizes 4x4\n",
            "Testing Quiz #1\n",
            "Testing Quiz #2\n",
            "Testing Quiz #3\n"
          ],
          "name": "stdout"
        }
      ]
    },
    {
      "cell_type": "markdown",
      "metadata": {
        "id": "GMFmUka9oF_h"
      },
      "source": [
        "# Iterate through 9x9 sudoku puzzles and compare output"
      ]
    },
    {
      "cell_type": "code",
      "metadata": {
        "id": "X6LVdeL0Ghw_",
        "colab": {
          "base_uri": "https://localhost:8080/"
        },
        "outputId": "e6b81fe8-3de9-4373-9a71-1bdd22c2f653"
      },
      "source": [
        "# Ingests the sudoku.csv from https://www.kaggle.com/bryanpark/sudoku\n",
        "# Be sure to have it uploaded into Colab or next to wherever this script is\n",
        "sudoku_puzzles = pd.read_csv(r'sudoku.csv')\n",
        "number_to_test = 10\n",
        "n = 9\n",
        "\n",
        "for i, row in sudoku_puzzles.iterrows():\n",
        "  print('Testing Quiz #%s' % str(i+1))\n",
        "  sudoku_problem, expected_solution = get_quiz_set(row)\n",
        "  sudoku_problem = convert_to_soduku(sudoku_problem, n)\n",
        "  expected_solution = convert_to_soduku(expected_solution, n)\n",
        " \n",
        "  Vals, Rows, Cols, Sectors = define_constants(n)\n",
        "  problem, options = define_problem_and_constraints(Vals, Rows, Cols)\n",
        "  problem = define_values_and_solve(problem, options, sudoku_problem)\n",
        "  solution = construct_solution_matrix(Rows, Cols, Vals, options)\n",
        "  success = compare_solutions(solution, expected_solution)\n",
        " \n",
        "  if not success:\n",
        "    print('[Input]')\n",
        "    pretty_print_solution(solution)\n",
        "    print('[Output]')\n",
        "    pretty_print_solution(expected_solution)    \n",
        "    raise Exception('Failed to find correct solution')\n",
        "  \n",
        "  if i+1 == number_to_test:\n",
        "    break"
      ],
      "execution_count": 19,
      "outputs": [
        {
          "output_type": "stream",
          "text": [
            "Testing Quiz #1\n",
            "Testing Quiz #2\n",
            "Testing Quiz #3\n",
            "Testing Quiz #4\n",
            "Testing Quiz #5\n",
            "Testing Quiz #6\n",
            "Testing Quiz #7\n",
            "Testing Quiz #8\n",
            "Testing Quiz #9\n",
            "Testing Quiz #10\n"
          ],
          "name": "stdout"
        }
      ]
    },
    {
      "cell_type": "code",
      "metadata": {
        "id": "wYZVdLWEiBdv"
      },
      "source": [
        ""
      ],
      "execution_count": null,
      "outputs": []
    }
  ]
}