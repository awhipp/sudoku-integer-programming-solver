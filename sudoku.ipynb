{
  "nbformat": 4,
  "nbformat_minor": 0,
  "metadata": {
    "colab": {
      "name": "sudoku.ipynb",
      "provenance": [],
      "collapsed_sections": [],
      "toc_visible": true,
      "authorship_tag": "ABX9TyPLi57WP9ObYoYe7Po037qk"
    },
    "kernelspec": {
      "name": "python3",
      "display_name": "Python 3"
    },
    "language_info": {
      "name": "python"
    }
  },
  "cells": [
    {
      "cell_type": "markdown",
      "metadata": {
        "id": "H9ZflKN3tMVn"
      },
      "source": [
        "# Install PuLP via pip"
      ]
    },
    {
      "cell_type": "code",
      "metadata": {
        "colab": {
          "base_uri": "https://localhost:8080/"
        },
        "id": "y9SMW4CNaPoB",
        "outputId": "10308895-72f5-494e-eda0-13eabd83c5b3"
      },
      "source": [
        "!pip install pulp"
      ],
      "execution_count": 19,
      "outputs": [
        {
          "output_type": "stream",
          "text": [
            "Requirement already satisfied: pulp in /usr/local/lib/python3.7/dist-packages (2.4)\n",
            "Requirement already satisfied: amply>=0.1.2 in /usr/local/lib/python3.7/dist-packages (from pulp) (0.1.4)\n",
            "Requirement already satisfied: pyparsing in /usr/local/lib/python3.7/dist-packages (from amply>=0.1.2->pulp) (2.4.7)\n",
            "Requirement already satisfied: docutils>=0.3 in /usr/local/lib/python3.7/dist-packages (from amply>=0.1.2->pulp) (0.17)\n"
          ],
          "name": "stdout"
        }
      ]
    },
    {
      "cell_type": "markdown",
      "metadata": {
        "id": "7hprgnzhwrOk"
      },
      "source": [
        "\n",
        "# Import and Global Variables"
      ]
    },
    {
      "cell_type": "code",
      "metadata": {
        "id": "XXV82ZvytRwe"
      },
      "source": [
        "from pulp import *"
      ],
      "execution_count": 34,
      "outputs": []
    },
    {
      "cell_type": "markdown",
      "metadata": {
        "id": "HWmlW0VxxZzg"
      },
      "source": [
        "# Setup Constants Function\n",
        "* Vals, Rows, Cols are the sequence from 1 to n\n",
        "* Sectors represent the sub-sectors within a sudoku puzzle"
      ]
    },
    {
      "cell_type": "code",
      "metadata": {
        "id": "sYg5ELNFxXPn"
      },
      "source": [
        "def define_constants(n):\n",
        "  Vals = range(1, n+1)\n",
        "  Rows = range(1, n+1)\n",
        "  Cols = range(1, n+1)\n",
        "\n",
        "  SubN = int(n/3)\n",
        "  Sectors = []\n",
        "\n",
        "  for i in range(SubN):\n",
        "      for j in range(SubN):\n",
        "          Sectors += [\n",
        "              [\n",
        "                (\n",
        "                    Rows[SubN*i+k],Cols[SubN*j+l]\n",
        "                ) for k in range(SubN) for l in range(SubN)\n",
        "              ]\n",
        "            ]\n",
        "\n",
        "  return Vals, Rows, Cols, Sectors\n",
        "\n",
        "Vals, Rows, Cols, Sectors = define_constants(9)"
      ],
      "execution_count": 72,
      "outputs": []
    },
    {
      "cell_type": "code",
      "metadata": {
        "id": "8ncwkvS9t7J_"
      },
      "source": [
        "def define_problem_and_constraints(Vals, Rows, Cols):\n",
        "  problem = LpProblem(\"Sudoku\", LpMinimize)\n",
        "  problem += 0\n",
        "\n",
        "  options = LpVariable.dicts(\"Options\", (Vals,Rows,Cols), 0, 1, LpInteger)\n",
        "  \n",
        "  # Constraint: Single Value per Option\n",
        "  for r in Rows:\n",
        "    for c in Cols:\n",
        "        problem += lpSum(\n",
        "            [options[v][r][c] for v in Vals]\n",
        "        ) == 1\n",
        "\n",
        "  # Constraint: Single Value per Row, Column, and Sector\n",
        "  for v in Vals:\n",
        "    for r in Rows:\n",
        "        problem += lpSum(\n",
        "            [options[v][r][c] for c in Cols]\n",
        "        ) == 1\n",
        "        \n",
        "    for c in Cols:\n",
        "        problem += lpSum(\n",
        "            [options[v][r][c] for r in Rows]\n",
        "        ) == 1\n",
        "\n",
        "    for b in Sectors:\n",
        "        problem += lpSum(\n",
        "            [options[v][r][c] for (r,c) in b]\n",
        "        ) == 1\n",
        "\n",
        "  return problem, options\n",
        "\n",
        "problem, options = define_problem_and_constraints(Vals, Rows, Cols)"
      ],
      "execution_count": 73,
      "outputs": []
    },
    {
      "cell_type": "code",
      "metadata": {
        "id": "adnOfNQlv02p"
      },
      "source": [
        "# TODO: Have this taken in multi-dimensional array and transform into constraints\n",
        "def define_initial_value_constraint(problem, options):\n",
        "  problem += options[5][1][1] == 1\n",
        "  problem += options[6][2][1] == 1\n",
        "  problem += options[8][4][1] == 1\n",
        "  problem += options[4][5][1] == 1\n",
        "  problem += options[7][6][1] == 1\n",
        "  problem += options[3][1][2] == 1\n",
        "  problem += options[9][3][2] == 1\n",
        "  problem += options[6][7][2] == 1\n",
        "  problem += options[8][3][3] == 1\n",
        "  problem += options[1][2][4] == 1\n",
        "  problem += options[8][5][4] == 1\n",
        "  problem += options[4][8][4] == 1\n",
        "  problem += options[7][1][5] == 1\n",
        "  problem += options[9][2][5] == 1\n",
        "  problem += options[6][4][5] == 1\n",
        "  problem += options[2][6][5] == 1\n",
        "  problem += options[1][8][5] == 1\n",
        "  problem += options[8][9][5] == 1\n",
        "  problem += options[5][2][6] == 1\n",
        "  problem += options[3][5][6] == 1\n",
        "  problem += options[9][8][6] == 1\n",
        "  problem += options[2][7][7] == 1\n",
        "  problem += options[6][3][8] == 1\n",
        "  problem += options[8][7][8] == 1\n",
        "  problem += options[7][9][8] == 1\n",
        "  problem += options[3][4][9] == 1\n",
        "  problem += options[1][5][9] == 1\n",
        "  problem += options[6][6][9] == 1\n",
        "  problem += options[5][8][9] == 1\n",
        "\n",
        "  return problem, options\n",
        "\n",
        "problem, options = define_initial_value_constraint(problem, options)"
      ],
      "execution_count": 107,
      "outputs": []
    },
    {
      "cell_type": "code",
      "metadata": {
        "colab": {
          "base_uri": "https://localhost:8080/"
        },
        "id": "gUXckG83wFsZ",
        "outputId": "2e17d19e-2445-46a9-aa71-0e3b69c6ebe7"
      },
      "source": [
        "problem.solve()\n",
        "print(\"Status: %s\" % LpStatus[problem.status]) "
      ],
      "execution_count": 106,
      "outputs": [
        {
          "output_type": "stream",
          "text": [
            "Status: Optimal\n"
          ],
          "name": "stdout"
        }
      ]
    },
    {
      "cell_type": "code",
      "metadata": {
        "id": "U-uu3ASFwgRz"
      },
      "source": [
        "def construct_solution_matrix(Rows, Cols, Vals, options):\n",
        "  soln = []\n",
        "  n = len(Rows)\n",
        "\n",
        "  for r in Rows:\n",
        "      row = []\n",
        "\n",
        "      for c in Cols:\n",
        "          for v in Vals:\n",
        "            if value(options[v][r][c]):\n",
        "                row.append(v)\n",
        "                \n",
        "                if c == n:\n",
        "                  soln.append(row)\n",
        "                  row = []\n",
        "  return soln\n",
        "\n",
        "solution = construct_solution_matrix(Rows, Cols, Vals, options)"
      ],
      "execution_count": 105,
      "outputs": []
    },
    {
      "cell_type": "code",
      "metadata": {
        "colab": {
          "base_uri": "https://localhost:8080/"
        },
        "id": "v37z1Bfz1GIy",
        "outputId": "98032d7e-22e9-48e6-9b1b-50f04857b3a1"
      },
      "source": [
        "# TODO: Make this function a little nicer and give it more of soduku vibe\n",
        "def pretty_print_solution(soln):\n",
        "  n = len(soln)\n",
        "  sub_n = len(soln)\n",
        "\n",
        "  line = '\\n' + 2*n*'-'\n",
        "  prnt = ''\n",
        "\n",
        "  for rowi, r in enumerate(soln):\n",
        "    for c in r:\n",
        "      prnt += str(c) + ' '\n",
        "    prnt += '\\n'\n",
        "  print(prnt)\n",
        "\n",
        "pretty_print_solution(solution)"
      ],
      "execution_count": 102,
      "outputs": [
        {
          "output_type": "stream",
          "text": [
            "5 3 4 6 7 8 9 1 2 \n",
            "6 7 2 1 9 5 3 4 8 \n",
            "1 9 8 3 4 2 5 6 7 \n",
            "8 5 9 7 6 1 4 2 3 \n",
            "4 2 6 8 5 3 7 9 1 \n",
            "7 1 3 9 2 4 8 5 6 \n",
            "9 6 1 5 3 7 2 8 4 \n",
            "2 8 7 4 1 9 6 3 5 \n",
            "3 4 5 2 8 6 1 7 9 \n",
            "\n"
          ],
          "name": "stdout"
        }
      ]
    },
    {
      "cell_type": "code",
      "metadata": {
        "id": "f3Hlzl5R1med"
      },
      "source": [
        ""
      ],
      "execution_count": null,
      "outputs": []
    }
  ]
}