{
  "nbformat": 4,
  "nbformat_minor": 0,
  "metadata": {
    "colab": {
      "name": "sudoku.ipynb",
      "provenance": [],
      "collapsed_sections": [],
      "toc_visible": true,
      "authorship_tag": "ABX9TyPfHVwTnJsp+2nh9fB3OZrt"
    },
    "kernelspec": {
      "name": "python3",
      "display_name": "Python 3"
    },
    "language_info": {
      "name": "python"
    }
  },
  "cells": [
    {
      "cell_type": "markdown",
      "metadata": {
        "id": "H9ZflKN3tMVn"
      },
      "source": [
        "# Install PuLP via pip"
      ]
    },
    {
      "cell_type": "code",
      "metadata": {
        "id": "y9SMW4CNaPoB"
      },
      "source": [
        "!pip install pulp\n",
        "!pip install pandas"
      ],
      "execution_count": null,
      "outputs": []
    },
    {
      "cell_type": "markdown",
      "metadata": {
        "id": "-xTSTC--nZOJ"
      },
      "source": [
        "# Import and Global Variables"
      ]
    },
    {
      "cell_type": "code",
      "metadata": {
        "id": "fTIXX9_scZAF"
      },
      "source": [
        "import pandas as pd\n",
        "from pulp import *\n",
        "\n",
        "# Ingests the sudoku.csv from https://www.kaggle.com/bryanpark/sudoku\n",
        "# Be sure to have it uploaded into Colab or next to wherever this script is\n",
        "sudoku_puzzles = pd.read_csv(r'sudoku.csv')"
      ],
      "execution_count": null,
      "outputs": []
    },
    {
      "cell_type": "markdown",
      "metadata": {
        "id": "hFAqH6GEnenK"
      },
      "source": [
        "# Helper Functions to convert records to Soduku 2D-Arrays"
      ]
    },
    {
      "cell_type": "code",
      "metadata": {
        "id": "zJsstd78dHWD"
      },
      "source": [
        "# Grabs individual row and splits into quiz and solution\n",
        "def get_quiz_set(row):\n",
        "  return row.quizzes, row.solutions\n",
        "\n",
        "# Convert sudoku string into 2D-Array\n",
        "def convert_to_soduku(line, n):\n",
        "  sudoku = []\n",
        "\n",
        "  split = [\n",
        "           line[i:i+n] for i in range(0, len(line), n)\n",
        "  ]\n",
        "  \n",
        "  for r in split:\n",
        "    sudoku.append(\n",
        "        [\n",
        "         int(r[i:i+1]) for i in range(0, len(r), 1)\n",
        "        ]\n",
        "    )\n",
        "  return sudoku\n",
        "\n",
        "# Compares 2D-Arrays for our solution and expected solution\n",
        "def compare_solutions(input, expected):\n",
        "  return input == expected"
      ],
      "execution_count": null,
      "outputs": []
    },
    {
      "cell_type": "markdown",
      "metadata": {
        "id": "HWmlW0VxxZzg"
      },
      "source": [
        "\n",
        "# Setup Constants Function"
      ]
    },
    {
      "cell_type": "code",
      "metadata": {
        "id": "sYg5ELNFxXPn"
      },
      "source": [
        "# TODO: Redefine for n instead of just for 9\n",
        "def define_constants(n):\n",
        "  Vals = range(1, n+1)  # Sequence of 1 to n\n",
        "  Rows = range(0, n)    # Sequence of 0 to n-1 (Since Python is 0-based)\n",
        "  Cols = range(0, n)    # Sequence of 0 to n-1 (Since Python is 0-based)\n",
        "\n",
        "  if n % 3 != 0:\n",
        "    raise Exception('%s needs to be divisible by 3')\n",
        "\n",
        "  SubN = int(n/3)       \n",
        "  Sectors = []\n",
        "\n",
        "  for i in range(SubN):\n",
        "      for j in range(SubN):\n",
        "          Sectors += [\n",
        "              [\n",
        "                (\n",
        "                    Rows[SubN*i+k],Cols[SubN*j+l]\n",
        "                ) for k in range(SubN) for l in range(SubN)\n",
        "              ]\n",
        "            ]\n",
        "\n",
        "  return Vals, Rows, Cols, Sectors"
      ],
      "execution_count": null,
      "outputs": []
    },
    {
      "cell_type": "markdown",
      "metadata": {
        "id": "wdcfUdp8K7do"
      },
      "source": [
        "# Define Standard Constraints\n",
        "* 1 Value per Option\n",
        "* Single Value per Row, Column, and Sector"
      ]
    },
    {
      "cell_type": "code",
      "metadata": {
        "id": "8ncwkvS9t7J_"
      },
      "source": [
        "def define_problem_and_constraints(Vals, Rows, Cols):\n",
        "  problem = LpProblem(\"Sudoku\", LpMinimize)\n",
        "  # Objective Function is irrelevant as we are just looking for an optimal soln\n",
        "  problem += 0\n",
        "\n",
        "  options = LpVariable.dicts(\"Options\", (Vals,Rows,Cols), 0, 1, LpInteger)\n",
        "  \n",
        "  # Constraint: Single Value per Option\n",
        "  for r in Rows:\n",
        "    for c in Cols:\n",
        "        problem += lpSum(\n",
        "            [options[v][r][c] for v in Vals]\n",
        "        ) == 1\n",
        "\n",
        "  # Constraint: Single Value per Row, Column, and Sector\n",
        "  for v in Vals:\n",
        "    for r in Rows:\n",
        "        problem += lpSum(\n",
        "            [options[v][r][c] for c in Cols]\n",
        "        ) == 1\n",
        "        \n",
        "    for c in Cols:\n",
        "        problem += lpSum(\n",
        "            [options[v][r][c] for r in Rows]\n",
        "        ) == 1\n",
        "\n",
        "    for b in Sectors:\n",
        "        problem += lpSum(\n",
        "            [options[v][r][c] for (r,c) in b]\n",
        "        ) == 1\n",
        "\n",
        "  return problem, options"
      ],
      "execution_count": null,
      "outputs": []
    },
    {
      "cell_type": "markdown",
      "metadata": {
        "id": "DG_uqlnELFCr"
      },
      "source": [
        "# Define Sudoku Problem and Solve\n",
        "Also defines the individual value constraints by looping through the 2D-Array"
      ]
    },
    {
      "cell_type": "code",
      "metadata": {
        "id": "adnOfNQlv02p"
      },
      "source": [
        "def define_values_and_solve(problem, options, values):\n",
        "  for r_idx, row in enumerate(values):\n",
        "    for c_idx, value in enumerate(row):\n",
        "      if value > 0:\n",
        "        problem += options[value][r_idx][c_idx] == 1\n",
        "  \n",
        "  problem.solve()\n",
        "\n",
        "  if LpStatus[problem.status] != 'Optimal':\n",
        "    raise Exception('Infeasible Problem.')\n",
        "\n",
        "  return problem"
      ],
      "execution_count": null,
      "outputs": []
    },
    {
      "cell_type": "markdown",
      "metadata": {
        "id": "TV42cKSpLKeF"
      },
      "source": [
        "# Grab Optimal Values and Conduct Python Array\n",
        "Generates a 2D-Array from the LP Solution"
      ]
    },
    {
      "cell_type": "code",
      "metadata": {
        "id": "U-uu3ASFwgRz"
      },
      "source": [
        "def construct_solution_matrix(Rows, Cols, Vals, options):\n",
        "  soln = []\n",
        "  n = len(Rows)\n",
        "\n",
        "  for r in Rows:\n",
        "      row = []\n",
        "\n",
        "      for c in Cols:\n",
        "          for v in Vals:\n",
        "            if value(options[v][r][c]):\n",
        "              row.append(v)\n",
        "              \n",
        "              if c == n-1:\n",
        "                soln.append(row)\n",
        "                row = []\n",
        "  return soln"
      ],
      "execution_count": null,
      "outputs": []
    },
    {
      "cell_type": "markdown",
      "metadata": {
        "id": "muhQqY1tLOtO"
      },
      "source": [
        "# Construct User-Readable Print-out\n",
        "Makes it easier to read and print to console"
      ]
    },
    {
      "cell_type": "code",
      "metadata": {
        "id": "v37z1Bfz1GIy"
      },
      "source": [
        "def pretty_print_solution(soln):\n",
        "  n = len(soln)\n",
        "  sub_n = len(soln)/3\n",
        "\n",
        "  line = 3*n*'-' + '\\n'\n",
        "  prnt = ''\n",
        "\n",
        "  for r_idx, row in enumerate(soln):\n",
        "    if r_idx % sub_n == 0:\n",
        "      prnt += line\n",
        "\n",
        "    for c_idx, value in enumerate(row):\n",
        "      if c_idx % sub_n == 0:\n",
        "        prnt += ' |'\n",
        "\n",
        "      prnt += ' ' + str(value)\n",
        "    prnt += ' |'\n",
        "\n",
        "\n",
        "    prnt += '\\n'\n",
        "  prnt += line\n",
        "  print(prnt)"
      ],
      "execution_count": null,
      "outputs": []
    },
    {
      "cell_type": "markdown",
      "metadata": {
        "id": "GMFmUka9oF_h"
      },
      "source": [
        "# Iterate through sudoku puzzles and compare output"
      ]
    },
    {
      "cell_type": "code",
      "metadata": {
        "id": "X6LVdeL0Ghw_"
      },
      "source": [
        "for i, row in sudoku_puzzles.iterrows():\n",
        "  print('Testing Quiz #%s' % str(i+1))\n",
        "  sudoku_problem, expected_solution = get_quiz_set(row)\n",
        "  sudoku_problem = convert_to_soduku(sudoku_problem, 9)\n",
        "  expected_solution = convert_to_soduku(expected_solution, 9)\n",
        "\n",
        "  Vals, Rows, Cols, Sectors = define_constants(9)\n",
        "  problem, options = define_problem_and_constraints(Vals, Rows, Cols)\n",
        "  problem = define_values_and_solve(problem, options, sudoku_problem)\n",
        "  solution = construct_solution_matrix(Rows, Cols, Vals, options)\n",
        "  success = compare_solutions(solution, expected_solution)\n",
        "\n",
        "  if not success:\n",
        "    print('[Input]')\n",
        "    pretty_print_solution(solution)\n",
        "    print('[Output]')\n",
        "    pretty_print_solution(expected_solution)    \n",
        "    raise Exception('Failed to find correct solution')\n"
      ],
      "execution_count": null,
      "outputs": []
    },
    {
      "cell_type": "code",
      "metadata": {
        "id": "wYZVdLWEiBdv"
      },
      "source": [
        ""
      ],
      "execution_count": null,
      "outputs": []
    }
  ]
}
