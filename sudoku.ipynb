{
  "nbformat": 4,
  "nbformat_minor": 0,
  "metadata": {
    "colab": {
      "name": "sudoku.ipynb",
      "provenance": [],
      "collapsed_sections": [],
      "toc_visible": true,
      "authorship_tag": "ABX9TyNXbmZcg13zWEheTYc+ULtf"
    },
    "kernelspec": {
      "name": "python3",
      "display_name": "Python 3"
    },
    "language_info": {
      "name": "python"
    }
  },
  "cells": [
    {
      "cell_type": "markdown",
      "metadata": {
        "id": "H9ZflKN3tMVn"
      },
      "source": [
        "# Install PuLP via pip"
      ]
    },
    {
      "cell_type": "code",
      "metadata": {
        "colab": {
          "base_uri": "https://localhost:8080/"
        },
        "id": "y9SMW4CNaPoB",
        "outputId": "6bdccb89-f6c3-45dd-9ab2-fe7116110abd"
      },
      "source": [
        "!pip install pulp"
      ],
      "execution_count": 1,
      "outputs": [
        {
          "output_type": "stream",
          "text": [
            "Requirement already satisfied: pulp in /usr/local/lib/python3.7/dist-packages (2.4)\n",
            "Requirement already satisfied: amply>=0.1.2 in /usr/local/lib/python3.7/dist-packages (from pulp) (0.1.4)\n",
            "Requirement already satisfied: docutils>=0.3 in /usr/local/lib/python3.7/dist-packages (from amply>=0.1.2->pulp) (0.17)\n",
            "Requirement already satisfied: pyparsing in /usr/local/lib/python3.7/dist-packages (from amply>=0.1.2->pulp) (2.4.7)\n"
          ],
          "name": "stdout"
        }
      ]
    },
    {
      "cell_type": "markdown",
      "metadata": {
        "id": "7hprgnzhwrOk"
      },
      "source": [
        "\n",
        "# Import and Global Variables"
      ]
    },
    {
      "cell_type": "code",
      "metadata": {
        "id": "XXV82ZvytRwe"
      },
      "source": [
        "from pulp import *"
      ],
      "execution_count": 2,
      "outputs": []
    },
    {
      "cell_type": "markdown",
      "metadata": {
        "id": "HWmlW0VxxZzg"
      },
      "source": [
        "\n",
        "# Setup Constants Function"
      ]
    },
    {
      "cell_type": "code",
      "metadata": {
        "id": "sYg5ELNFxXPn"
      },
      "source": [
        "# TODO: Redefine for n instead of just for 9\n",
        "def define_constants(n):\n",
        "  Vals = range(1, n+1)  # Sequence of 1 to n\n",
        "  Rows = range(0, n)    # Sequence of 0 to n-1 (Since Python is 0-based)\n",
        "  Cols = range(0, n)    # Sequence of 0 to n-1 (Since Python is 0-based)\n",
        "\n",
        "  if n % 3 != 0:\n",
        "    raise Exception('%s needs to be divisible by 3')\n",
        "\n",
        "  SubN = int(n/3)       \n",
        "  Sectors = []\n",
        "\n",
        "  for i in range(SubN):\n",
        "      for j in range(SubN):\n",
        "          Sectors += [\n",
        "              [\n",
        "                (\n",
        "                    Rows[SubN*i+k],Cols[SubN*j+l]\n",
        "                ) for k in range(SubN) for l in range(SubN)\n",
        "              ]\n",
        "            ]\n",
        "\n",
        "  return Vals, Rows, Cols, Sectors\n",
        "\n",
        "Vals, Rows, Cols, Sectors = define_constants(9)"
      ],
      "execution_count": 3,
      "outputs": []
    },
    {
      "cell_type": "markdown",
      "metadata": {
        "id": "wdcfUdp8K7do"
      },
      "source": [
        "# Define Standard Constraints\n",
        "* 1 Value per Option\n",
        "* Single Value per Row, Column, and Sector"
      ]
    },
    {
      "cell_type": "code",
      "metadata": {
        "id": "8ncwkvS9t7J_"
      },
      "source": [
        "def define_problem_and_constraints(Vals, Rows, Cols):\n",
        "  problem = LpProblem(\"Sudoku\", LpMinimize)\n",
        "  # Objective Function is irrelevant as we are just looking for an optimal soln\n",
        "  problem += 0\n",
        "\n",
        "  options = LpVariable.dicts(\"Options\", (Vals,Rows,Cols), 0, 1, LpInteger)\n",
        "  \n",
        "  # Constraint: Single Value per Option\n",
        "  for r in Rows:\n",
        "    for c in Cols:\n",
        "        problem += lpSum(\n",
        "            [options[v][r][c] for v in Vals]\n",
        "        ) == 1\n",
        "\n",
        "  # Constraint: Single Value per Row, Column, and Sector\n",
        "  for v in Vals:\n",
        "    for r in Rows:\n",
        "        problem += lpSum(\n",
        "            [options[v][r][c] for c in Cols]\n",
        "        ) == 1\n",
        "        \n",
        "    for c in Cols:\n",
        "        problem += lpSum(\n",
        "            [options[v][r][c] for r in Rows]\n",
        "        ) == 1\n",
        "\n",
        "    for b in Sectors:\n",
        "        problem += lpSum(\n",
        "            [options[v][r][c] for (r,c) in b]\n",
        "        ) == 1\n",
        "\n",
        "  return problem, options\n",
        "\n",
        "problem, options = define_problem_and_constraints(Vals, Rows, Cols)"
      ],
      "execution_count": 4,
      "outputs": []
    },
    {
      "cell_type": "markdown",
      "metadata": {
        "id": "DG_uqlnELFCr"
      },
      "source": [
        "# Define Sudoku Problem and Solve"
      ]
    },
    {
      "cell_type": "code",
      "metadata": {
        "id": "adnOfNQlv02p",
        "colab": {
          "base_uri": "https://localhost:8080/"
        },
        "outputId": "7bd2b49c-66c1-486f-d980-6744cc91354e"
      },
      "source": [
        "def define_values_and_solve(problem, options, values):\n",
        "  for r_idx, row in enumerate(values):\n",
        "    for c_idx, value in enumerate(row):\n",
        "      if value > 0:\n",
        "        problem += options[value][r_idx][c_idx] == 1\n",
        "  \n",
        "  problem.solve()\n",
        "\n",
        "  if LpStatus[problem.status] == 'Optimal':\n",
        "    print('Solution Found. Problem is optimal and feasible.')\n",
        "  else:\n",
        "    print('Infeasible Problem.')\n",
        "\n",
        "  return problem\n",
        "\n",
        "# 3-D Array where 0 is not a constraint\n",
        "# TODO: Take in CSV and output/compare solution\n",
        "sudoku_problem = [\n",
        "  [5,3,0,0,7,0,0,0,0],\n",
        "  [6,0,0,1,9,5,0,0,0],\n",
        "  [0,9,8,0,0,0,0,6,0],\n",
        "  [8,0,0,0,6,0,0,0,3],\n",
        "  [4,0,0,8,0,3,0,0,1],\n",
        "  [7,0,0,0,2,0,0,0,6],\n",
        "  [0,6,0,0,0,0,2,8,0],\n",
        "  [0,0,0,4,1,9,0,0,5],\n",
        "  [0,0,0,0,8,0,0,7,9]\n",
        "]\n",
        "\n",
        "problem = define_values_and_solve(problem, options, sudoku_problem)"
      ],
      "execution_count": 6,
      "outputs": [
        {
          "output_type": "stream",
          "text": [
            "Solution Found. Problem is optimal and feasible.\n"
          ],
          "name": "stdout"
        }
      ]
    },
    {
      "cell_type": "markdown",
      "metadata": {
        "id": "TV42cKSpLKeF"
      },
      "source": [
        "# Grab Optimal Values and Conduct Python Array"
      ]
    },
    {
      "cell_type": "code",
      "metadata": {
        "id": "U-uu3ASFwgRz",
        "colab": {
          "base_uri": "https://localhost:8080/"
        },
        "outputId": "f82cc139-088f-47be-f65a-d56d92a2feaf"
      },
      "source": [
        "def construct_solution_matrix(Rows, Cols, Vals, options):\n",
        "  soln = []\n",
        "  n = len(Rows)\n",
        "\n",
        "  for r in Rows:\n",
        "      row = []\n",
        "\n",
        "      for c in Cols:\n",
        "          for v in Vals:\n",
        "            if value(options[v][r][c]):\n",
        "              row.append(v)\n",
        "              \n",
        "              if c == n-1:\n",
        "                soln.append(row)\n",
        "                row = []\n",
        "  return soln\n",
        "\n",
        "solution = construct_solution_matrix(Rows, Cols, Vals, options)\n",
        "print('Solution = ')\n",
        "for s in solution:\n",
        "  print(s)"
      ],
      "execution_count": 37,
      "outputs": [
        {
          "output_type": "stream",
          "text": [
            "Solution = \n",
            "[5, 3, 4, 6, 7, 8, 9, 1, 2]\n",
            "[6, 7, 2, 1, 9, 5, 3, 4, 8]\n",
            "[1, 9, 8, 3, 4, 2, 5, 6, 7]\n",
            "[8, 5, 9, 7, 6, 1, 4, 2, 3]\n",
            "[4, 2, 6, 8, 5, 3, 7, 9, 1]\n",
            "[7, 1, 3, 9, 2, 4, 8, 5, 6]\n",
            "[9, 6, 1, 5, 3, 7, 2, 8, 4]\n",
            "[2, 8, 7, 4, 1, 9, 6, 3, 5]\n",
            "[3, 4, 5, 2, 8, 6, 1, 7, 9]\n"
          ],
          "name": "stdout"
        }
      ]
    },
    {
      "cell_type": "markdown",
      "metadata": {
        "id": "muhQqY1tLOtO"
      },
      "source": [
        "# Construct User-Readable Print-out"
      ]
    },
    {
      "cell_type": "code",
      "metadata": {
        "colab": {
          "base_uri": "https://localhost:8080/"
        },
        "id": "v37z1Bfz1GIy",
        "outputId": "b00e93e4-4514-4a55-bccb-2d3c6cc04b6d"
      },
      "source": [
        "def pretty_print_solution(soln):\n",
        "  n = len(soln)\n",
        "  sub_n = len(soln)/3\n",
        "\n",
        "  line = 3*n*'-' + '\\n'\n",
        "  prnt = ''\n",
        "\n",
        "  for r_idx, row in enumerate(soln):\n",
        "    if r_idx % sub_n == 0:\n",
        "      prnt += line\n",
        "\n",
        "    for c_idx, value in enumerate(row):\n",
        "      if c_idx % sub_n == 0:\n",
        "        prnt += ' |'\n",
        "\n",
        "      prnt += ' ' + str(value)\n",
        "    prnt += ' |'\n",
        "\n",
        "\n",
        "    prnt += '\\n'\n",
        "  prnt += line\n",
        "  print(prnt)\n",
        "\n",
        "pretty_print_solution(solution)"
      ],
      "execution_count": 36,
      "outputs": [
        {
          "output_type": "stream",
          "text": [
            "---------------------------\n",
            " | 5 3 4 | 6 7 8 | 9 1 2 |\n",
            " | 6 7 2 | 1 9 5 | 3 4 8 |\n",
            " | 1 9 8 | 3 4 2 | 5 6 7 |\n",
            "---------------------------\n",
            " | 8 5 9 | 7 6 1 | 4 2 3 |\n",
            " | 4 2 6 | 8 5 3 | 7 9 1 |\n",
            " | 7 1 3 | 9 2 4 | 8 5 6 |\n",
            "---------------------------\n",
            " | 9 6 1 | 5 3 7 | 2 8 4 |\n",
            " | 2 8 7 | 4 1 9 | 6 3 5 |\n",
            " | 3 4 5 | 2 8 6 | 1 7 9 |\n",
            "---------------------------\n",
            "\n"
          ],
          "name": "stdout"
        }
      ]
    },
    {
      "cell_type": "code",
      "metadata": {
        "id": "X6LVdeL0Ghw_"
      },
      "source": [
        ""
      ],
      "execution_count": null,
      "outputs": []
    }
  ]
}