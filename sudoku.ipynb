!pip install pulp
import pulp
